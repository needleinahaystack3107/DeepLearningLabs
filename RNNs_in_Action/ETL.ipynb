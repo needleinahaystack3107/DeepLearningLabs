{
 "cells": [
  {
   "cell_type": "code",
   "execution_count": 7,
   "metadata": {},
   "outputs": [],
   "source": [
    "import requests\n",
    "from datetime import datetime as dt\n",
    "from datetime import timedelta as td\n",
    "import pandas as pd\n",
    "import time"
   ]
  },
  {
   "cell_type": "code",
   "execution_count": 8,
   "metadata": {},
   "outputs": [],
   "source": [
    "# Ancilliary function that returns each day between a date range \n",
    "def daterange(start_date, end_date):\n",
    "    \n",
    "    '''This function extracts by performing get calls on the polygon grouped daily bars API endpoint.\n",
    "        start_date: datetime\n",
    "        end_date: datetime \n",
    "        return: list of datetime objects\n",
    "\n",
    "    '''\n",
    "    print('Total days in daterange',int ((end_date - start_date).days))\n",
    "    for n in range(int ((end_date - start_date).days)):\n",
    "        yield start_date + td(n)\n"
   ]
  },
  {
   "cell_type": "code",
   "execution_count": 9,
   "metadata": {},
   "outputs": [],
   "source": [
    "## Extraction Function\n",
    "def extract(start_date,end_date):\n",
    "    '''This function extracts by performing get calls on the polygon grouped daily bars API endpoint.\n",
    "        start_date: str\n",
    "        end_date: str \n",
    "        return: pd.DataFrame containing ticker, date and stock details \n",
    "\n",
    "    '''\n",
    "\n",
    "    print(\"Extracting\")\n",
    "    # Type conversions for parsing string as argument to \"get\" \n",
    "    s_date = dt.strptime(start_date,\"%Y-%m-%d\")\n",
    "    e_date = dt.strptime(end_date,\"%Y-%m-%d\")\n",
    "    \n",
    "    # Temporary Dataframe that stores daily results\n",
    "    result_df = pd.DataFrame()\n",
    "    call_limit = 0\n",
    "    # Iterate for each day and store results in the temporary dataframe\n",
    "    for single_date in daterange(s_date, e_date):\n",
    "        \n",
    "        current_day_str = single_date.strftime(\"%Y-%m-%d\")\n",
    "        result = requests.get(\"https://api.polygon.io/v2/aggs/grouped/locale/us/market/stocks/\"+current_day_str+\"?adjusted=true&include_otc=true&apiKey=pgii3xgdAKOYGUUFQHqszfF1kFhH0Hbe\")\n",
    "        if result.status_code == 200 and result.text is not None and result.json()['resultsCount']!=0:\n",
    "            print(\"Appending for date: \",current_day_str)\n",
    "            result_df = result_df.append(pd.DataFrame(result.json()['results']))\n",
    "            call_limit+=1\n",
    "        \n",
    "        if call_limit==4:\n",
    "            print(\"API Call Limit Reached. Waiting for 1 minute\")\n",
    "            time.sleep(60)\n",
    "            print(\"Active again\")\n",
    "            call_limit = 0\n",
    "                \n",
    "    return result_df\n"
   ]
  },
  {
   "cell_type": "code",
   "execution_count": 12,
   "metadata": {},
   "outputs": [],
   "source": [
    "# Transform and Load Function\n",
    "def transform_load(df):\n",
    "    '''\n",
    "       This function performs the necessary transformations required on the extracted \n",
    "       Dataframe and stores the results in a pickle file(.pkl) \n",
    "       df: pd.DataFrame\n",
    "       return: \n",
    "\n",
    "    '''\n",
    "    \n",
    "    print(\"Performing Necessary Transformations\")\n",
    "    column_dict = {'T':'Ticker','v':'Volume','vw':'VWAP','o':'','c':'','h':'','l':'','t':'Timestamp','n':'TransCount'}\n",
    "    df = df.rename(columns = column_dict)\n",
    "\n",
    "    df['Timestamp'] = df['Timestamp'].apply(lambda x:(dt.utcfromtimestamp(x/1000).strftime(\"%Y-%m-%d\")))\n",
    "    df.to_pickle(\"C:/Users/abhij/Git Repos/DeepLearningLabs/RNNs_in_Action/training.pkl\")\n",
    "     \n",
    "    "
   ]
  },
  {
   "cell_type": "code",
   "execution_count": 13,
   "metadata": {},
   "outputs": [
    {
     "name": "stdout",
     "output_type": "stream",
     "text": [
      "Extracting\n",
      "Total days in daterange 7\n",
      "Appending for date:  2021-09-07\n"
     ]
    },
    {
     "name": "stderr",
     "output_type": "stream",
     "text": [
      "C:\\Users\\abhij\\AppData\\Local\\Temp\\ipykernel_11528\\3458172334.py:25: FutureWarning: The frame.append method is deprecated and will be removed from pandas in a future version. Use pandas.concat instead.\n",
      "  result_df = result_df.append(pd.DataFrame(result.json()['results']))\n"
     ]
    },
    {
     "name": "stdout",
     "output_type": "stream",
     "text": [
      "Appending for date:  2021-09-08\n"
     ]
    },
    {
     "name": "stderr",
     "output_type": "stream",
     "text": [
      "C:\\Users\\abhij\\AppData\\Local\\Temp\\ipykernel_11528\\3458172334.py:25: FutureWarning: The frame.append method is deprecated and will be removed from pandas in a future version. Use pandas.concat instead.\n",
      "  result_df = result_df.append(pd.DataFrame(result.json()['results']))\n"
     ]
    },
    {
     "name": "stdout",
     "output_type": "stream",
     "text": [
      "Appending for date:  2021-09-09\n"
     ]
    },
    {
     "name": "stderr",
     "output_type": "stream",
     "text": [
      "C:\\Users\\abhij\\AppData\\Local\\Temp\\ipykernel_11528\\3458172334.py:25: FutureWarning: The frame.append method is deprecated and will be removed from pandas in a future version. Use pandas.concat instead.\n",
      "  result_df = result_df.append(pd.DataFrame(result.json()['results']))\n"
     ]
    },
    {
     "name": "stdout",
     "output_type": "stream",
     "text": [
      "Appending for date:  2021-09-10\n",
      "API Call Limit Reached. Waiting for 1 minute\n"
     ]
    },
    {
     "name": "stderr",
     "output_type": "stream",
     "text": [
      "C:\\Users\\abhij\\AppData\\Local\\Temp\\ipykernel_11528\\3458172334.py:25: FutureWarning: The frame.append method is deprecated and will be removed from pandas in a future version. Use pandas.concat instead.\n",
      "  result_df = result_df.append(pd.DataFrame(result.json()['results']))\n"
     ]
    },
    {
     "name": "stdout",
     "output_type": "stream",
     "text": [
      "Active again\n",
      "Appending for date:  2021-09-13\n",
      "Performing Necessary Transformations\n"
     ]
    },
    {
     "name": "stderr",
     "output_type": "stream",
     "text": [
      "C:\\Users\\abhij\\AppData\\Local\\Temp\\ipykernel_11528\\3458172334.py:25: FutureWarning: The frame.append method is deprecated and will be removed from pandas in a future version. Use pandas.concat instead.\n",
      "  result_df = result_df.append(pd.DataFrame(result.json()['results']))\n"
     ]
    }
   ],
   "source": [
    "transform_load(extract(\"2021-09-07\",\"2021-09-14\"))"
   ]
  },
  {
   "cell_type": "code",
   "execution_count": null,
   "metadata": {},
   "outputs": [],
   "source": []
  }
 ],
 "metadata": {
  "kernelspec": {
   "display_name": "Python 3.9.7 64-bit",
   "language": "python",
   "name": "python3"
  },
  "language_info": {
   "codemirror_mode": {
    "name": "ipython",
    "version": 3
   },
   "file_extension": ".py",
   "mimetype": "text/x-python",
   "name": "python",
   "nbconvert_exporter": "python",
   "pygments_lexer": "ipython3",
   "version": "3.9.7"
  },
  "orig_nbformat": 4,
  "vscode": {
   "interpreter": {
    "hash": "b8ffe1c3664f4da60e7310446699d2db577a48881ad6e046ce2077bbfacdc2a3"
   }
  }
 },
 "nbformat": 4,
 "nbformat_minor": 2
}
